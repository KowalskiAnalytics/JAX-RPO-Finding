{
 "cells": [
  {
   "attachments": {},
   "cell_type": "markdown",
   "metadata": {},
   "source": [
    "## Newton-GMRES testing\n",
    "GMRES is an iterative method which generates a basis for the Krylov subspace $\\{ r, Ar, A^2 r, ... A^{n-1}r \\}$ for a linear operator $A$ and some starting vector $r$, and finds the vector $\\tilde{x}$ which minimizes the square residual for the equation $Ax=b$ over the Krylov subspace, where b is a vector we wish to solve this equation for. \n",
    "\n",
    "We operate over the Krylov subspace because it closely approximates the span of the eigenspaces with the largest eigenvalues, and so is a good representation for a sparse matrix, which our Jacobian often is, because Krylov subspaces quickly pick out the finite number of unstable directions in our nonlinear system.\n",
    "\n",
    "We begin by demonstrating the utility of GMRES for sparse/singular matrices. First, we generate a random matrix A, which is in all likelihood invertible, because invertible matrices are dense over the space of square matrices of a given dimension. For this matrix, `gmres` solves $Ax=b$ faster but less accurately than `linsolve` (a wrapper for Fortran LU decomposition routine `_gesv()`), but, if we create a matrix which is ~10% high-eigenvalue eigenspaces, and 90% very low-value eigenspaces, we find that `gmres` converges to an equally accurate result equally as fast, while `linsolve` provides a less accurate result in a longer time, struggling with a nearly-singular matrix."
   ]
  },
  {
   "cell_type": "code",
   "execution_count": 1,
   "metadata": {},
   "outputs": [],
   "source": [
    "import scipy\n",
    "import scipy.sparse.linalg as linalg\n",
    "import numpy as np\n",
    "import matplotlib.pyplot as plt\n",
    "\n",
    "N = 10000\n",
    "\n",
    "A = np.random.rand(N,N)\n",
    "b = np.random.rand(N)"
   ]
  },
  {
   "cell_type": "code",
   "execution_count": 2,
   "metadata": {},
   "outputs": [
    {
     "name": "stdout",
     "output_type": "stream",
     "text": [
      "833.4303969047503 0.5077686197232293\n",
      "0\n"
     ]
    }
   ],
   "source": [
    "x, errorcode = linalg.gmres(A,b,tol=1)\n",
    "\n",
    "diff = A @ x - b\n",
    "print(np.dot(diff, diff), max(diff))\n",
    "print(errorcode)"
   ]
  },
  {
   "cell_type": "code",
   "execution_count": 3,
   "metadata": {},
   "outputs": [
    {
     "name": "stdout",
     "output_type": "stream",
     "text": [
      "9.97340319032871e-18 1.4437251394383566e-10\n"
     ]
    }
   ],
   "source": [
    "x = np.linalg.solve(A,b)\n",
    "\n",
    "diff = A @ x - b\n",
    "print(np.dot(diff, diff), max(diff))"
   ]
  },
  {
   "cell_type": "code",
   "execution_count": 4,
   "metadata": {},
   "outputs": [],
   "source": [
    "D = np.exp(np.random.rand(N) * 100 - 90)\n",
    "A = (A * D) @ A.T"
   ]
  },
  {
   "cell_type": "code",
   "execution_count": 5,
   "metadata": {},
   "outputs": [
    {
     "name": "stdout",
     "output_type": "stream",
     "text": [
      "838.0023653980231 0.5427176840666491\n",
      "0\n"
     ]
    }
   ],
   "source": [
    "x, errorcode = linalg.gmres(A,b,tol=1)\n",
    "\n",
    "diff = A @ x - b\n",
    "print(np.dot(diff, diff), max(diff))\n",
    "print(errorcode)"
   ]
  },
  {
   "cell_type": "code",
   "execution_count": 6,
   "metadata": {},
   "outputs": [
    {
     "name": "stdout",
     "output_type": "stream",
     "text": [
      "42674816.649788134 77.64551663004133\n"
     ]
    }
   ],
   "source": [
    "try:\n",
    "    x = np.linalg.solve(A,b)\n",
    "\n",
    "    diff = A @ x - b\n",
    "    print(np.dot(diff, diff), max(diff))\n",
    "except np.linalg.LinAlgError as message:\n",
    "    print(\"LinAlgError: \", message)"
   ]
  },
  {
   "attachments": {},
   "cell_type": "markdown",
   "metadata": {},
   "source": [
    "## Newton-Krylov solving\n",
    "With the help of an example taken from [the `scipy.optimze` documentation](https://docs.scipy.org/doc/scipy-0.11.0/reference/tutorial/optimize.html#root-finding-for-large-problems), we have a test case for implementing our own Newton-Krylov solvers!\n",
    "\n",
    "We attempt to solve the integro-differential equation:\n",
    "\n",
    "$$ (\\partial_x^2 + \\partial_y^2) P + 5 \\left(\\int_0^1 \\int_0^1 \\cosh(P) \\; dx \\; dy \\right)^2 = 0 $$\n",
    "\n",
    "On the unit square domain with boundary values of 1 at $y=1$ and 0 elsewhere. We estimate the second derivatives via finite differencing and the integral by the mean of evenly spaced samples over the unit domain (no scaling needed), and a solution is found simply by setting this equation to be the residual we wish to minimize.\n",
    "\n",
    "Suppose we have a function $F(u)$ for some spatially extended $u(x)$ that we wish to minimize. Let $G(u) = \\langle F(u), F(u) \\rangle = \\int dx F(u(x))^2$. \n",
    "Suppose we can vary $u(x;s)$ continuously as a function of a free parameter $s$, such that we can now make $G(s) = G(u(s))$, and note that\n",
    "\n",
    "$$ \\frac{\\partial G}{\\partial s} = 2 \\langle F, \\frac{\\partial F}{\\partial u} \\frac{\\partial u}{\\partial s} \\rangle = 2\\langle F, J f(u) \\rangle = 2\\langle J^\\dag F, f(u) \\rangle $$\n",
    "\n",
    "Where $f(u) = \\frac{\\partial u}{\\partial s}$ defines the method by which we evolve the state $u$ so as to minimize the residual $F(u)$, $J = \\frac{\\partial F}{\\partial u}$ is the Jacobian of our residual function, and $J^\\dag$ is its adjoint operator, which we will not attempt to use in this problem due to its lack of periodic boundary conditions. We will revisit this problem as a testing ground for adjoints before using them for Quasi-2d Kolmogorov flow with real boundary conditions.\n",
    "\n",
    "This definition suggests two methods of evolving our state, one that ensures $J f(s) = -F$, which makes $\\partial_s G = -2 \\langle F, F \\rangle = -2G$, which gives exponential convergence, and one where $f(s) = -J^\\dag F$, which gives $\\partial_s G = -2 \\langle J^\\dag F, J^\\dag F \\rangle = - \\lVert J^\\dag F \\rVert^2$, which is always negative, ensuring G is always decreasing, but proportional to the magnitude of the Jacobian, and thus faster the further it is from the optimal solution, and slower upon closing in upon it.\n",
    "\n",
    "The former method is Newton-Krylov (that is, provided you use `gmres` to solve $J f(s) = -F$), the latter is Adjoint Looping. They have complementary convergence properties (former is better close to the solution, latter is better further), and both can be discretized by updating $u_{new} = u + f(s) \\Delta s$, where step size $\\Delta s$ can be dynamically adjusted."
   ]
  },
  {
   "cell_type": "code",
   "execution_count": 7,
   "metadata": {},
   "outputs": [],
   "source": [
    "from scipy.optimize import newton_krylov\n",
    "from numpy import cosh, zeros_like, mgrid, zeros\n",
    "\n",
    "import jax\n",
    "import jax.numpy as jnp\n",
    "from jax.numpy.fft import fft, ifft, fftfreq\n",
    "from jax import jit\n",
    "\n",
    "from jax.config import config\n",
    "config.update(\"jax_enable_x64\", True)"
   ]
  },
  {
   "cell_type": "code",
   "execution_count": 8,
   "metadata": {},
   "outputs": [
    {
     "name": "stdout",
     "output_type": "stream",
     "text": [
      "0:  |F(x)| = 27.8383; step 1\n",
      "1:  |F(x)| = 4.61524; step 1\n",
      "2:  |F(x)| = 1.01998; step 1\n",
      "3:  |F(x)| = 0.487411; step 1\n",
      "4:  |F(x)| = 0.126951; step 1\n",
      "5:  |F(x)| = 0.00262613; step 1\n",
      "6:  |F(x)| = 0.000144578; step 1\n",
      "7:  |F(x)| = 1.26706e-05; step 1\n",
      "8:  |F(x)| = 3.26961e-07; step 1\n",
      "Residual 3.269612225409446e-07\n",
      "float64\n"
     ]
    },
    {
     "data": {
      "image/png": "[encoded data removed]",
      "text/plain": [
       "<Figure size 432x288 with 2 Axes>"
      ]
     },
     "metadata": {
      "needs_background": "light"
     },
     "output_type": "display_data"
    }
   ],
   "source": [
    "# parameters\n",
    "nx, ny = 75, 75\n",
    "hx, hy = 1./(nx-1), 1./(ny-1)\n",
    "\n",
    "P_left, P_right = 0, 0\n",
    "P_top, P_bottom = 1, 0\n",
    "\n",
    "def residual(P):\n",
    "    d2x = zeros_like(P)\n",
    "    d2y = zeros_like(P)\n",
    "\n",
    "    d2x[1:-1] = (P[2:]   - 2*P[1:-1] + P[:-2])/hx/hx\n",
    "    d2x[0]    = (P[1]    - 2*P[0]    + P_left)/hx/hx\n",
    "    d2x[-1]   = (P_right - 2*P[-1]   + P[-2]) /hx/hx\n",
    "\n",
    "    d2y[:,1:-1] = (P[:,2:] - 2*P[:,1:-1] + P[:,:-2])/hy/hy\n",
    "    d2y[:,0]    = (P[:,1]  - 2*P[:,0]    + P_bottom)/hy/hy\n",
    "    d2y[:,-1]   = (P_top   - 2*P[:,-1]   + P[:,-2]) /hy/hy\n",
    "\n",
    "    return d2x + d2y - 5*cosh(P).mean()**2\n",
    "\n",
    "# solve\n",
    "guess = zeros((nx, ny), float)\n",
    "sol = newton_krylov(residual, guess, method='lgmres', verbose=1, rdiff=1e-7)\n",
    "print('Residual', abs(residual(sol)).max())\n",
    "print(sol.dtype)\n",
    "\n",
    "# visualize\n",
    "x, y = mgrid[0:1:(nx*1j), 0:1:(ny*1j)]\n",
    "plt.pcolor(x, y, sol)\n",
    "plt.colorbar()\n",
    "plt.show()"
   ]
  },
  {
   "cell_type": "code",
   "execution_count": 9,
   "metadata": {},
   "outputs": [
    {
     "name": "stdout",
     "output_type": "stream",
     "text": [
      "|F(x)| = 47381.71403611313\n",
      "|F(x)| = 33.334041865776435\n",
      "|F(x)| = 0.15415320724643397\n",
      "|F(x)| = 8.671164196778052e-06\n",
      "Residual 4.5145104365929e-07\n"
     ]
    },
    {
     "name": "stderr",
     "output_type": "stream",
     "text": [
      "C:\\Users\\kowal\\AppData\\Roaming\\Python\\Python37\\site-packages\\ipykernel_launcher.py:16: DeprecationWarning: scipy.sparse.linalg.lgmres called without specifying `atol`. The default value will change in the future. To preserve current behavior, set ``atol=tol``.\n",
      "  app.launch_new_instance()\n"
     ]
    },
    {
     "data": {
      "image/png": "[encoded data removed]",
      "text/plain": [
       "<Figure size 432x288 with 2 Axes>"
      ]
     },
     "metadata": {
      "needs_background": "light"
     },
     "output_type": "display_data"
    }
   ],
   "source": [
    "def numerical_jacobian(f,x,rdiff):\n",
    "    fx = f(x)\n",
    "    return lambda v: (f(x + rdiff * v.reshape(x.shape)) - fx)/rdiff\n",
    "\n",
    "\n",
    "def bootleg_newton_krylov(res, u0, rdiff=1e-5, tol=1e-5):\n",
    "    u = u0\n",
    "    shape = (len(u0.flatten()), len(u0.flatten()))\n",
    "    F = res(u)\n",
    "    magF = np.linalg.norm(F)\n",
    "    print(f\"|F(x)| = {magF}\")\n",
    "    while magF > tol:\n",
    "        if magF < rdiff:    # no idea if this is sound, seems to work tho!\n",
    "            rdiff = magF\n",
    "        J = linalg.LinearOperator(shape, matvec=numerical_jacobian(res,u,rdiff))\n",
    "        f, e = linalg.lgmres(J,F.flatten(),inner_m=20,outer_k=10)\n",
    "        u -= f.reshape(u.shape)\n",
    "        F = res(u)\n",
    "        magF = np.linalg.norm(F)\n",
    "        print(f\"|F(x)| = {magF}\")\n",
    "    return u\n",
    "\n",
    "\n",
    "# solve\n",
    "guess = zeros((nx, ny), float)\n",
    "sol = bootleg_newton_krylov(residual, guess)\n",
    "print('Residual', abs(residual(sol)).max())\n",
    "\n",
    "# visualize\n",
    "x, y = mgrid[0:1:(nx*1j), 0:1:(ny*1j)]\n",
    "plt.pcolor(x, y, sol)\n",
    "plt.colorbar()\n",
    "plt.show()"
   ]
  },
  {
   "cell_type": "code",
   "execution_count": 20,
   "metadata": {},
   "outputs": [
    {
     "name": "stdout",
     "output_type": "stream",
     "text": [
      "|F(x)| = 47381.71403611313\n"
     ]
    },
    {
     "name": "stderr",
     "output_type": "stream",
     "text": [
      "C:\\Users\\kowal\\AppData\\Roaming\\Python\\Python37\\site-packages\\ipykernel_launcher.py:29: DeprecationWarning: scipy.sparse.linalg.lgmres called without specifying `atol`. The default value will change in the future. To preserve current behavior, set ``atol=tol``.\n"
     ]
    },
    {
     "name": "stdout",
     "output_type": "stream",
     "text": [
      "|F(x)| = 33.3337278762\n",
      "|F(x)| = 0.1541488114\n",
      "|F(x)| = 0.0000082393\n",
      "Residual 3.4998881126568904e-07\n"
     ]
    },
    {
     "data": {
      "image/png": "[encoded data removed]",
      "text/plain": [
       "<Figure size 432x288 with 2 Axes>"
      ]
     },
     "metadata": {
      "needs_background": "light"
     },
     "output_type": "display_data"
    },
    {
     "ename": "",
     "evalue": "",
     "output_type": "error",
     "traceback": [
      "\u001b[1;31mThe Kernel crashed while executing code in the the current cell or a previous cell. Please review the code in the cell(s) to identify a possible cause of the failure. Click <a href='https://aka.ms/vscodeJupyterKernelCrash'>here</a> for more info. View Jupyter <a href='command:jupyter.viewOutput'>log</a> for further details."
     ]
    }
   ],
   "source": [
    "@jit\n",
    "def JAX_residual(P):\n",
    "    P = P.reshape((nx,ny))\n",
    "    d2x = jnp.zeros_like(P)\n",
    "    d2y = jnp.zeros_like(P)\n",
    "\n",
    "    d2x = d2x.at[1:-1].set((P[2:]   - 2*P[1:-1] + P[:-2])/hx/hx)\n",
    "    d2x = d2x.at[0]   .set((P[1]    - 2*P[0]    + P_left)/hx/hx)\n",
    "    d2x = d2x.at[-1]  .set((P_right - 2*P[-1]   + P[-2]) /hx/hx)\n",
    "\n",
    "    d2y = d2y.at[:,1:-1].set((P[:,2:] - 2*P[:,1:-1] + P[:,:-2])/hy/hy)\n",
    "    d2y = d2y.at[:,0]   .set((P[:,1]  - 2*P[:,0]    + P_bottom)/hy/hy)\n",
    "    d2y = d2y.at[:,-1]  .set((P_top   - 2*P[:,-1]   + P[:,-2]) /hy/hy)\n",
    "\n",
    "    return (d2x + d2y - 5*jnp.cosh(P).mean()**2).flatten()\n",
    "\n",
    "def JAX_newton_krylov(res, u0, tol=1e-5):\n",
    "    u = u0\n",
    "    shape = (len(u0.flatten()), len(u0.flatten()))\n",
    "    F = res(u)\n",
    "    magF = np.linalg.norm(F)\n",
    "    print(f\"|F(x)| = {magF}\")\n",
    "    while magF > tol:\n",
    "        J = linalg.LinearOperator(shape, matvec=lambda v: (jax.jvp(res, (u.flatten(),), (v,)))[1])\n",
    "\n",
    "        # using Armijo notation\n",
    "        p, errorcode = linalg.lgmres(J,F.flatten(),inner_m=20,outer_k=10)\n",
    "        p = p.reshape(u.shape)\n",
    "        s = 1\n",
    "        while jnp.linalg.norm(res(u - s*p)) >= (1-0.99*s)*magF:\n",
    "            s /= 2\n",
    "        u -= s*p\n",
    "        F = res(u)\n",
    "        magF = np.linalg.norm(F)\n",
    "        print(f\"|F(x)| = {magF:.10f}\")\n",
    "    return u\n",
    "\n",
    "# solve\n",
    "guess = jnp.zeros((nx, ny), float)\n",
    "sol = JAX_newton_krylov(JAX_residual, guess)\n",
    "print('Residual', abs(JAX_residual(sol)).max())\n",
    "\n",
    "# visualize\n",
    "x, y = mgrid[0:1:(nx*1j), 0:1:(ny*1j)]\n",
    "plt.pcolor(x, y, sol)\n",
    "plt.colorbar()\n",
    "plt.show()"
   ]
  },
  {
   "cell_type": "code",
   "execution_count": null,
   "metadata": {},
   "outputs": [],
   "source": [
    "def JAX_Adjoint(res, u0, tol=1e-5):\n",
    "    u = u0\n",
    "    shape = (len(u0.flatten()), len(u0.flatten()))\n",
    "    F = res(u)\n",
    "    magF = np.linalg.norm(F)\n",
    "    print(f\"|F(x)| = {magF}\")\n",
    "    while magF > tol:\n",
    "        J = linalg.LinearOperator(shape, matvec=lambda v: (jax.jvp(res, (u.flatten(),), (v,)))[1])\n",
    "\n",
    "        # using Armijo notation\n",
    "        p, errorcode = linalg.lgmres(J,F.flatten(),inner_m=20,outer_k=10)\n",
    "        p = p.reshape(u.shape)\n",
    "        s = 1\n",
    "        while jnp.linalg.norm(res(u - s*p)) >= (1-0.99*s)*magF:\n",
    "            s /= 2\n",
    "        u -= s*p\n",
    "        F = res(u)\n",
    "        magF = np.linalg.norm(F)\n",
    "        print(f\"|F(x)| = {magF:.10f}\")\n",
    "    return u\n",
    "\n",
    "# solve\n",
    "guess = jnp.zeros((nx, ny), float)\n",
    "sol = JAX_Adjoint(JAX_residual, guess)\n",
    "print('Residual', abs(JAX_residual(sol)).max())\n",
    "\n",
    "# visualize\n",
    "x, y = mgrid[0:1:(nx*1j), 0:1:(ny*1j)]\n",
    "plt.pcolor(x, y, sol)\n",
    "plt.colorbar()\n",
    "plt.show()"
   ]
  },
  {
   "cell_type": "code",
   "execution_count": 11,
   "metadata": {},
   "outputs": [
    {
     "name": "stdout",
     "output_type": "stream",
     "text": [
      "Residual 3.4988562980231563e-07\n"
     ]
    },
    {
     "data": {
      "image/png": "[encoded data removed]",
      "text/plain": [
       "<Figure size 432x288 with 2 Axes>"
      ]
     },
     "metadata": {
      "needs_background": "light"
     },
     "output_type": "display_data"
    }
   ],
   "source": [
    "# solve\n",
    "guess = jnp.zeros((nx, ny), float)\n",
    "sol = newton_krylov(JAX_residual, guess)\n",
    "print('Residual', abs(JAX_residual(sol)).max())\n",
    "\n",
    "# visualize\n",
    "x, y = mgrid[0:1:(nx*1j), 0:1:(ny*1j)]\n",
    "plt.pcolor(x, y, sol)\n",
    "plt.colorbar()\n",
    "plt.show()"
   ]
  },
  {
   "attachments": {},
   "cell_type": "markdown",
   "metadata": {},
   "source": [
    "Observe that despite them all being float64, a pure JAX implementation (JAX for residual & Jacobian, scipy for lgmres) converges as fast (4 steps) as our own implementation of numerical Newton-Krylov (numpy for res & Jac, scipy for lgmres), while scipy's baseline Newton-Krylov converges the slowest (7 iterations) on a numpy residual function, while it converges the fastest of all of them on a JAX residual function. This persists if you reorder the code blocks and restart the kernel, hopefully ruling out execution order / lgmres stored data / side effect interference.\n",
    "\n",
    "Most importantly, they all converge, and do so rapidly!"
   ]
  }
 ],
 "metadata": {
  "kernelspec": {
   "display_name": "compphys",
   "language": "python",
   "name": "python3"
  },
  "language_info": {
   "codemirror_mode": {
    "name": "ipython",
    "version": 3
   },
   "file_extension": ".py",
   "mimetype": "text/x-python",
   "name": "python",
   "nbconvert_exporter": "python",
   "pygments_lexer": "ipython3",
   "version": "3.7.16"
  },
  "orig_nbformat": 4
 },
 "nbformat": 4,
 "nbformat_minor": 2
}
